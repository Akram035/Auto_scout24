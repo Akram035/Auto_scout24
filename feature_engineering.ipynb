{
 "cells": [
  {
   "cell_type": "markdown",
   "metadata": {},
   "source": [
    "## Engineering new features from our data"
   ]
  },
  {
   "cell_type": "code",
   "execution_count": 1,
   "metadata": {},
   "outputs": [
    {
     "name": "stderr",
     "output_type": "stream",
     "text": [
      "C:\\Users\\moham\\Anaconda3\\lib\\importlib\\_bootstrap.py:219: RuntimeWarning: numpy.ufunc size changed, may indicate binary incompatibility. Expected 192 from C header, got 216 from PyObject\n",
      "  return f(*args, **kwds)\n",
      "C:\\Users\\moham\\Anaconda3\\lib\\importlib\\_bootstrap.py:219: RuntimeWarning: numpy.ufunc size changed, may indicate binary incompatibility. Expected 192 from C header, got 216 from PyObject\n",
      "  return f(*args, **kwds)\n"
     ]
    }
   ],
   "source": [
    "#importing libraries\n",
    "import pandas as pd \n",
    "import numpy as np \n",
    "import matplotlib.pyplot as plt\n",
    "import seaborn as sns"
   ]
  },
  {
   "cell_type": "code",
   "execution_count": 2,
   "metadata": {},
   "outputs": [
    {
     "data": {
      "text/html": [
       "<div>\n",
       "<style scoped>\n",
       "    .dataframe tbody tr th:only-of-type {\n",
       "        vertical-align: middle;\n",
       "    }\n",
       "\n",
       "    .dataframe tbody tr th {\n",
       "        vertical-align: top;\n",
       "    }\n",
       "\n",
       "    .dataframe thead th {\n",
       "        text-align: right;\n",
       "    }\n",
       "</style>\n",
       "<table border=\"1\" class=\"dataframe\">\n",
       "  <thead>\n",
       "    <tr style=\"text-align: right;\">\n",
       "      <th></th>\n",
       "      <th>product_tier</th>\n",
       "      <th>make_name</th>\n",
       "      <th>price</th>\n",
       "      <th>first_zip_digit</th>\n",
       "      <th>first_registration_year</th>\n",
       "      <th>created_date</th>\n",
       "      <th>deleted_date</th>\n",
       "      <th>search_views</th>\n",
       "      <th>detail_views</th>\n",
       "      <th>stock_days</th>\n",
       "      <th>ctr</th>\n",
       "    </tr>\n",
       "  </thead>\n",
       "  <tbody>\n",
       "    <tr>\n",
       "      <td>0</td>\n",
       "      <td>Basic</td>\n",
       "      <td>Mitsubishi</td>\n",
       "      <td>16750</td>\n",
       "      <td>5</td>\n",
       "      <td>2013</td>\n",
       "      <td>2018-07-24</td>\n",
       "      <td>2018-08-24</td>\n",
       "      <td>3091</td>\n",
       "      <td>123</td>\n",
       "      <td>31</td>\n",
       "      <td>0.037803</td>\n",
       "    </tr>\n",
       "    <tr>\n",
       "      <td>1</td>\n",
       "      <td>Basic</td>\n",
       "      <td>Mercedes-Benz</td>\n",
       "      <td>35950</td>\n",
       "      <td>4</td>\n",
       "      <td>2015</td>\n",
       "      <td>2018-08-16</td>\n",
       "      <td>2018-10-07</td>\n",
       "      <td>3283</td>\n",
       "      <td>223</td>\n",
       "      <td>52</td>\n",
       "      <td>0.067926</td>\n",
       "    </tr>\n",
       "    <tr>\n",
       "      <td>2</td>\n",
       "      <td>Basic</td>\n",
       "      <td>Mercedes-Benz</td>\n",
       "      <td>11950</td>\n",
       "      <td>3</td>\n",
       "      <td>1998</td>\n",
       "      <td>2018-07-16</td>\n",
       "      <td>2018-09-05</td>\n",
       "      <td>3247</td>\n",
       "      <td>265</td>\n",
       "      <td>51</td>\n",
       "      <td>0.081614</td>\n",
       "    </tr>\n",
       "    <tr>\n",
       "      <td>3</td>\n",
       "      <td>Basic</td>\n",
       "      <td>Ford</td>\n",
       "      <td>1750</td>\n",
       "      <td>6</td>\n",
       "      <td>2003</td>\n",
       "      <td>2018-07-20</td>\n",
       "      <td>2018-10-29</td>\n",
       "      <td>1856</td>\n",
       "      <td>26</td>\n",
       "      <td>101</td>\n",
       "      <td>0.014009</td>\n",
       "    </tr>\n",
       "    <tr>\n",
       "      <td>4</td>\n",
       "      <td>Basic</td>\n",
       "      <td>Mercedes-Benz</td>\n",
       "      <td>26500</td>\n",
       "      <td>3</td>\n",
       "      <td>2014</td>\n",
       "      <td>2018-08-28</td>\n",
       "      <td>2018-09-08</td>\n",
       "      <td>490</td>\n",
       "      <td>20</td>\n",
       "      <td>11</td>\n",
       "      <td>0.040816</td>\n",
       "    </tr>\n",
       "  </tbody>\n",
       "</table>\n",
       "</div>"
      ],
      "text/plain": [
       "  product_tier      make_name  price  first_zip_digit  \\\n",
       "0        Basic     Mitsubishi  16750                5   \n",
       "1        Basic  Mercedes-Benz  35950                4   \n",
       "2        Basic  Mercedes-Benz  11950                3   \n",
       "3        Basic           Ford   1750                6   \n",
       "4        Basic  Mercedes-Benz  26500                3   \n",
       "\n",
       "   first_registration_year created_date deleted_date  search_views  \\\n",
       "0                     2013   2018-07-24   2018-08-24          3091   \n",
       "1                     2015   2018-08-16   2018-10-07          3283   \n",
       "2                     1998   2018-07-16   2018-09-05          3247   \n",
       "3                     2003   2018-07-20   2018-10-29          1856   \n",
       "4                     2014   2018-08-28   2018-09-08           490   \n",
       "\n",
       "   detail_views  stock_days       ctr  \n",
       "0           123          31  0.037803  \n",
       "1           223          52  0.067926  \n",
       "2           265          51  0.081614  \n",
       "3            26         101  0.014009  \n",
       "4            20          11  0.040816  "
      ]
     },
     "execution_count": 2,
     "metadata": {},
     "output_type": "execute_result"
    }
   ],
   "source": [
    "#reading and viewing the dataset \n",
    "df = pd.read_csv(\"as24_clean.csv\", sep=\";\")\n",
    "df.head()"
   ]
  },
  {
   "cell_type": "markdown",
   "metadata": {},
   "source": [
    "I would use the columns \"created_date\" and \"deleted_date\" to make new features \"created_month\" and \"deleted_month\" that might be useful for our model."
   ]
  },
  {
   "cell_type": "code",
   "execution_count": 5,
   "metadata": {},
   "outputs": [],
   "source": [
    "#changing the 'created_date' and 'deleted_date' dtypes to datetime\n",
    "for col_name in df.columns:\n",
    "    if 'date' in col_name:\n",
    "        df[col_name] = pd.to_datetime(df[col_name], dayfirst=True)"
   ]
  },
  {
   "cell_type": "code",
   "execution_count": 6,
   "metadata": {},
   "outputs": [
    {
     "data": {
      "text/html": [
       "<div>\n",
       "<style scoped>\n",
       "    .dataframe tbody tr th:only-of-type {\n",
       "        vertical-align: middle;\n",
       "    }\n",
       "\n",
       "    .dataframe tbody tr th {\n",
       "        vertical-align: top;\n",
       "    }\n",
       "\n",
       "    .dataframe thead th {\n",
       "        text-align: right;\n",
       "    }\n",
       "</style>\n",
       "<table border=\"1\" class=\"dataframe\">\n",
       "  <thead>\n",
       "    <tr style=\"text-align: right;\">\n",
       "      <th></th>\n",
       "      <th>product_tier</th>\n",
       "      <th>make_name</th>\n",
       "      <th>price</th>\n",
       "      <th>first_zip_digit</th>\n",
       "      <th>first_registration_year</th>\n",
       "      <th>created_date</th>\n",
       "      <th>deleted_date</th>\n",
       "      <th>search_views</th>\n",
       "      <th>detail_views</th>\n",
       "      <th>stock_days</th>\n",
       "      <th>ctr</th>\n",
       "      <th>created_month</th>\n",
       "      <th>deleted_month</th>\n",
       "    </tr>\n",
       "  </thead>\n",
       "  <tbody>\n",
       "    <tr>\n",
       "      <td>0</td>\n",
       "      <td>Basic</td>\n",
       "      <td>Mitsubishi</td>\n",
       "      <td>16750</td>\n",
       "      <td>5</td>\n",
       "      <td>2013</td>\n",
       "      <td>2018-07-24</td>\n",
       "      <td>2018-08-24</td>\n",
       "      <td>3091</td>\n",
       "      <td>123</td>\n",
       "      <td>31</td>\n",
       "      <td>0.037803</td>\n",
       "      <td>7</td>\n",
       "      <td>8</td>\n",
       "    </tr>\n",
       "    <tr>\n",
       "      <td>1</td>\n",
       "      <td>Basic</td>\n",
       "      <td>Mercedes-Benz</td>\n",
       "      <td>35950</td>\n",
       "      <td>4</td>\n",
       "      <td>2015</td>\n",
       "      <td>2018-08-16</td>\n",
       "      <td>2018-10-07</td>\n",
       "      <td>3283</td>\n",
       "      <td>223</td>\n",
       "      <td>52</td>\n",
       "      <td>0.067926</td>\n",
       "      <td>8</td>\n",
       "      <td>10</td>\n",
       "    </tr>\n",
       "    <tr>\n",
       "      <td>2</td>\n",
       "      <td>Basic</td>\n",
       "      <td>Mercedes-Benz</td>\n",
       "      <td>11950</td>\n",
       "      <td>3</td>\n",
       "      <td>1998</td>\n",
       "      <td>2018-07-16</td>\n",
       "      <td>2018-09-05</td>\n",
       "      <td>3247</td>\n",
       "      <td>265</td>\n",
       "      <td>51</td>\n",
       "      <td>0.081614</td>\n",
       "      <td>7</td>\n",
       "      <td>9</td>\n",
       "    </tr>\n",
       "    <tr>\n",
       "      <td>3</td>\n",
       "      <td>Basic</td>\n",
       "      <td>Ford</td>\n",
       "      <td>1750</td>\n",
       "      <td>6</td>\n",
       "      <td>2003</td>\n",
       "      <td>2018-07-20</td>\n",
       "      <td>2018-10-29</td>\n",
       "      <td>1856</td>\n",
       "      <td>26</td>\n",
       "      <td>101</td>\n",
       "      <td>0.014009</td>\n",
       "      <td>7</td>\n",
       "      <td>10</td>\n",
       "    </tr>\n",
       "    <tr>\n",
       "      <td>4</td>\n",
       "      <td>Basic</td>\n",
       "      <td>Mercedes-Benz</td>\n",
       "      <td>26500</td>\n",
       "      <td>3</td>\n",
       "      <td>2014</td>\n",
       "      <td>2018-08-28</td>\n",
       "      <td>2018-09-08</td>\n",
       "      <td>490</td>\n",
       "      <td>20</td>\n",
       "      <td>11</td>\n",
       "      <td>0.040816</td>\n",
       "      <td>8</td>\n",
       "      <td>9</td>\n",
       "    </tr>\n",
       "  </tbody>\n",
       "</table>\n",
       "</div>"
      ],
      "text/plain": [
       "  product_tier      make_name  price  first_zip_digit  \\\n",
       "0        Basic     Mitsubishi  16750                5   \n",
       "1        Basic  Mercedes-Benz  35950                4   \n",
       "2        Basic  Mercedes-Benz  11950                3   \n",
       "3        Basic           Ford   1750                6   \n",
       "4        Basic  Mercedes-Benz  26500                3   \n",
       "\n",
       "   first_registration_year created_date deleted_date  search_views  \\\n",
       "0                     2013   2018-07-24   2018-08-24          3091   \n",
       "1                     2015   2018-08-16   2018-10-07          3283   \n",
       "2                     1998   2018-07-16   2018-09-05          3247   \n",
       "3                     2003   2018-07-20   2018-10-29          1856   \n",
       "4                     2014   2018-08-28   2018-09-08           490   \n",
       "\n",
       "   detail_views  stock_days       ctr  created_month  deleted_month  \n",
       "0           123          31  0.037803              7              8  \n",
       "1           223          52  0.067926              8             10  \n",
       "2           265          51  0.081614              7              9  \n",
       "3            26         101  0.014009              7             10  \n",
       "4            20          11  0.040816              8              9  "
      ]
     },
     "execution_count": 6,
     "metadata": {},
     "output_type": "execute_result"
    }
   ],
   "source": [
    "df['created_month'] = df.created_date.dt.month\n",
    "df['deleted_month'] = df.deleted_date.dt.month\n",
    "\n",
    "df.head()"
   ]
  },
  {
   "cell_type": "code",
   "execution_count": 7,
   "metadata": {},
   "outputs": [
    {
     "data": {
      "text/plain": [
       "2018    78288\n",
       "Name: created_date, dtype: int64"
      ]
     },
     "execution_count": 7,
     "metadata": {},
     "output_type": "execute_result"
    }
   ],
   "source": [
    "df.created_date.dt.year.value_counts()"
   ]
  },
  {
   "cell_type": "code",
   "execution_count": 8,
   "metadata": {},
   "outputs": [
    {
     "data": {
      "text/plain": [
       "2018    69430\n",
       "2019     8858\n",
       "Name: deleted_date, dtype: int64"
      ]
     },
     "execution_count": 8,
     "metadata": {},
     "output_type": "execute_result"
    }
   ],
   "source": [
    "df.deleted_date.dt.year.value_counts()"
   ]
  },
  {
   "cell_type": "markdown",
   "metadata": {},
   "source": [
    "- Since there is not much different values for created and deleted years, it wouldn't be so useful to add them as features.\n",
    "\n",
    "- Now, there is no need for the columns created_date and deleted date"
   ]
  },
  {
   "cell_type": "code",
   "execution_count": 13,
   "metadata": {},
   "outputs": [
    {
     "data": {
      "text/html": [
       "<div>\n",
       "<style scoped>\n",
       "    .dataframe tbody tr th:only-of-type {\n",
       "        vertical-align: middle;\n",
       "    }\n",
       "\n",
       "    .dataframe tbody tr th {\n",
       "        vertical-align: top;\n",
       "    }\n",
       "\n",
       "    .dataframe thead th {\n",
       "        text-align: right;\n",
       "    }\n",
       "</style>\n",
       "<table border=\"1\" class=\"dataframe\">\n",
       "  <thead>\n",
       "    <tr style=\"text-align: right;\">\n",
       "      <th></th>\n",
       "      <th>product_tier</th>\n",
       "      <th>make_name</th>\n",
       "      <th>price</th>\n",
       "      <th>first_zip_digit</th>\n",
       "      <th>first_registration_year</th>\n",
       "      <th>search_views</th>\n",
       "      <th>detail_views</th>\n",
       "      <th>stock_days</th>\n",
       "      <th>ctr</th>\n",
       "      <th>created_month</th>\n",
       "      <th>deleted_month</th>\n",
       "    </tr>\n",
       "  </thead>\n",
       "  <tbody>\n",
       "    <tr>\n",
       "      <td>0</td>\n",
       "      <td>Basic</td>\n",
       "      <td>Mitsubishi</td>\n",
       "      <td>16750</td>\n",
       "      <td>5</td>\n",
       "      <td>2013</td>\n",
       "      <td>3091</td>\n",
       "      <td>123</td>\n",
       "      <td>31</td>\n",
       "      <td>0.037803</td>\n",
       "      <td>7</td>\n",
       "      <td>8</td>\n",
       "    </tr>\n",
       "    <tr>\n",
       "      <td>1</td>\n",
       "      <td>Basic</td>\n",
       "      <td>Mercedes-Benz</td>\n",
       "      <td>35950</td>\n",
       "      <td>4</td>\n",
       "      <td>2015</td>\n",
       "      <td>3283</td>\n",
       "      <td>223</td>\n",
       "      <td>52</td>\n",
       "      <td>0.067926</td>\n",
       "      <td>8</td>\n",
       "      <td>10</td>\n",
       "    </tr>\n",
       "    <tr>\n",
       "      <td>2</td>\n",
       "      <td>Basic</td>\n",
       "      <td>Mercedes-Benz</td>\n",
       "      <td>11950</td>\n",
       "      <td>3</td>\n",
       "      <td>1998</td>\n",
       "      <td>3247</td>\n",
       "      <td>265</td>\n",
       "      <td>51</td>\n",
       "      <td>0.081614</td>\n",
       "      <td>7</td>\n",
       "      <td>9</td>\n",
       "    </tr>\n",
       "    <tr>\n",
       "      <td>3</td>\n",
       "      <td>Basic</td>\n",
       "      <td>Ford</td>\n",
       "      <td>1750</td>\n",
       "      <td>6</td>\n",
       "      <td>2003</td>\n",
       "      <td>1856</td>\n",
       "      <td>26</td>\n",
       "      <td>101</td>\n",
       "      <td>0.014009</td>\n",
       "      <td>7</td>\n",
       "      <td>10</td>\n",
       "    </tr>\n",
       "    <tr>\n",
       "      <td>4</td>\n",
       "      <td>Basic</td>\n",
       "      <td>Mercedes-Benz</td>\n",
       "      <td>26500</td>\n",
       "      <td>3</td>\n",
       "      <td>2014</td>\n",
       "      <td>490</td>\n",
       "      <td>20</td>\n",
       "      <td>11</td>\n",
       "      <td>0.040816</td>\n",
       "      <td>8</td>\n",
       "      <td>9</td>\n",
       "    </tr>\n",
       "  </tbody>\n",
       "</table>\n",
       "</div>"
      ],
      "text/plain": [
       "  product_tier      make_name  price  first_zip_digit  \\\n",
       "0        Basic     Mitsubishi  16750                5   \n",
       "1        Basic  Mercedes-Benz  35950                4   \n",
       "2        Basic  Mercedes-Benz  11950                3   \n",
       "3        Basic           Ford   1750                6   \n",
       "4        Basic  Mercedes-Benz  26500                3   \n",
       "\n",
       "   first_registration_year  search_views  detail_views  stock_days       ctr  \\\n",
       "0                     2013          3091           123          31  0.037803   \n",
       "1                     2015          3283           223          52  0.067926   \n",
       "2                     1998          3247           265          51  0.081614   \n",
       "3                     2003          1856            26         101  0.014009   \n",
       "4                     2014           490            20          11  0.040816   \n",
       "\n",
       "   created_month  deleted_month  \n",
       "0              7              8  \n",
       "1              8             10  \n",
       "2              7              9  \n",
       "3              7             10  \n",
       "4              8              9  "
      ]
     },
     "execution_count": 13,
     "metadata": {},
     "output_type": "execute_result"
    }
   ],
   "source": [
    "#dropping the date columns\n",
    "df.drop(['created_date', 'deleted_date'], axis=1, inplace=True)\n",
    "df.head()"
   ]
  },
  {
   "cell_type": "code",
   "execution_count": 14,
   "metadata": {},
   "outputs": [
    {
     "data": {
      "text/plain": [
       "(78288, 11)"
      ]
     },
     "execution_count": 14,
     "metadata": {},
     "output_type": "execute_result"
    }
   ],
   "source": [
    "df.shape"
   ]
  },
  {
   "cell_type": "markdown",
   "metadata": {},
   "source": [
    "Now the data is ready for the next step, which is converting categorical variables to numerical values to get the data ready for the models"
   ]
  },
  {
   "cell_type": "code",
   "execution_count": 16,
   "metadata": {},
   "outputs": [],
   "source": [
    "#saving the dataset\n",
    "df.to_csv(\"model_data.csv\", index=False, sep=\";\")"
   ]
  },
  {
   "cell_type": "code",
   "execution_count": null,
   "metadata": {},
   "outputs": [],
   "source": []
  }
 ],
 "metadata": {
  "interpreter": {
   "hash": "f515e17ece7fdd10b748da9c779c75bf809ff89faf3460578638f0110370c271"
  },
  "kernelspec": {
   "display_name": "Python 3.7.4 64-bit ('base': conda)",
   "name": "python3"
  },
  "language_info": {
   "codemirror_mode": {
    "name": "ipython",
    "version": 3
   },
   "file_extension": ".py",
   "mimetype": "text/x-python",
   "name": "python",
   "nbconvert_exporter": "python",
   "pygments_lexer": "ipython3",
   "version": "3.7.4"
  },
  "orig_nbformat": 4
 },
 "nbformat": 4,
 "nbformat_minor": 2
}
